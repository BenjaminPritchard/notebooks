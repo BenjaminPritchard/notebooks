{
    "cells": [
        {
            "cell_type": "markdown",
            "metadata": {},
            "source": [
                "# Major Seventh Chords\n",
                "\n",
                "To make a major seventh chord identify the 1st, 3rd, 5th, and 7th notes of a major scale."
            ]
        },
        {
            "cell_type": "markdown",
            "metadata": {},
            "source": [
                "Here is a c major scale:"
            ]
        },
        {
            "cell_type": "code",
            "execution_count": 4,
            "metadata": {},
            "outputs": [
                {
                    "data": {
                        "image/png": "[encoded data removed]",
                        "text/plain": [
                            "<IPython.core.display.Image object>"
                        ]
                    },
                    "metadata": {
                        "image/png": {
                            "height": 50,
                            "width": 369
                        }
                    },
                    "output_type": "display_data"
                }
            ],
            "source": [
                "from music21 import stream, note, style\n",
                "\n",
                "# Create a C major scale with quarter notes\n",
                "c_major_scale = stream.Stream()\n",
                "notes = ['C4', 'D4', 'E4', 'F4', 'G4', 'A4', 'B4', 'C5']\n",
                "\n",
                "# Define red notes (1st, 3rd, 5th, 7th)\n",
                "red_notes = {'C4', 'E4', 'G4', 'B4'}\n",
                "\n",
                "for pitch in notes:\n",
                "    n = note.Note(pitch, quarterLength=1.0)\n",
                "    if pitch in red_notes:\n",
                "        n.style.color = 'red'\n",
                "    else:\n",
                "        n.style.color = 'black'\n",
                "    c_major_scale.append(n)\n",
                "\n",
                "staff = stream.Stream()\n",
                "staff.append(c_major_scale)\n",
                "staff.show()"
            ]
        },
        {
            "cell_type": "markdown",
            "metadata": {},
            "source": [
                "As can be seen above, the red notes are the 1st, 3rd, 5th, and 7th notes of the C major scale. (C, E, G, B)\n",
                "\n",
                "Now, use those notes to make a chord.\n",
                "\n",
                "This chord is called a major seventh chord."
            ]
        },
        {
            "cell_type": "code",
            "execution_count": 6,
            "metadata": {},
            "outputs": [
                {
                    "data": {
                        "image/png": "[encoded data removed]",
                        "text/plain": [
                            "<IPython.core.display.Image object>"
                        ]
                    },
                    "metadata": {
                        "image/png": {
                            "height": 50,
                            "width": 149
                        }
                    },
                    "output_type": "display_data"
                }
            ],
            "source": [
                "# Create a C major 7th chord using the red notes\n",
                "from music21 import chord\n",
                "\n",
                "c_major_7th_chord = chord.Chord(list(red_notes))\n",
                "\n",
                "# Display the chord\n",
                "c_major_7th_chord.show()"
            ]
        }
    ],
    "metadata": {
        "kernelspec": {
            "display_name": ".venv",
            "language": "python",
            "name": "python3"
        },
        "language_info": {
            "codemirror_mode": {
                "name": "ipython",
                "version": 3
            },
            "file_extension": ".py",
            "mimetype": "text/x-python",
            "name": "python",
            "nbconvert_exporter": "python",
            "pygments_lexer": "ipython3",
            "version": "3.8.10"
        }
    },
    "nbformat": 4,
    "nbformat_minor": 2
}
